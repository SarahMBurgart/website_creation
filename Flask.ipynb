{
 "cells": [
  {
   "cell_type": "code",
   "execution_count": 4,
   "metadata": {},
   "outputs": [],
   "source": [
    "from flask import Flask, render_template\n",
    "from flask import request # to have access to the query string"
   ]
  },
  {
   "cell_type": "code",
   "execution_count": 2,
   "metadata": {},
   "outputs": [],
   "source": [
    "app = Flask(__name__)\n",
    "\n",
    "@app.route('/multiply')\n",
    "@app.route('/multiply/<int:num1>/<int:num2>')\n",
    "def multiply(num1=5, num2=5):\n",
    "    res = 5*5\n",
    "    return '{}'.format(res)\n"
   ]
  },
  {
   "cell_type": "code",
   "execution_count": 3,
   "metadata": {},
   "outputs": [],
   "source": [
    "# templates in Flask\n",
    "# long way\n",
    "\n",
    "app = Flask(__name__)\n",
    "\n",
    "@app.route('/multiply')\n",
    "@app.route('/multiply/<int:num1>/<int:num2>')\n",
    "def multiply(num1=5, num2=5):\n",
    "# triple quotes keeps line breaks\n",
    "    return \"\"\"\n",
    "    <!doctype html>\n",
    "    <html>\n",
    "    <head><title>Multiply!</title></head>\n",
    "    <body>\n",
    "    <h1>{} * {} = {}</h1>\n",
    "    </body>\n",
    "    </html>\n",
    "    \"\"\".format(num1, num2, num1*num2)"
   ]
  },
  {
   "cell_type": "code",
   "execution_count": null,
   "metadata": {},
   "outputs": [],
   "source": [
    "# short way - need to make a directory \n",
    "# - named templates - Flask will automatically look for it\n",
    "# make name.html\n",
    "# print variables - jinja2 - {{ num1 }}\n",
    "\n",
    "@app.route('/multiply')\n",
    "@app.route('/multiply/<int:num1>/<int:num2>')\n",
    "def multiply(num1=5, num2=5):\n",
    "    # need to pass the variables to render_template\n",
    "    return render_template(\"name.html\", num1=num1, num2=num2)\n",
    "\n",
    "# or ...\n",
    "\n",
    "def multiple(num1, num2):\n",
    "    context = {'num1':num1, 'num2':num2}\n",
    "    return render_template(\"name.html\", **context)\n",
    "\n"
   ]
  },
  {
   "cell_type": "code",
   "execution_count": null,
   "metadata": {},
   "outputs": [],
   "source": [
    "# template inheritance\n",
    "''' put all the things that stay the same in layout.html\n",
    "and make them into blocks {% block title%}{% endblock %}\n",
    "{%   %} = command (as opposed to print or evaluate in jinja2)\n",
    "\n",
    "when you use the inherited template in other .html files - \n",
    "add at the top:\n",
    "{% extends \"layout.html\" %}\n",
    "{% block title %}Howdy!{% endblock %} <-- overwrites the inherited title\n",
    "\n",
    "if you want to add to a block & keep the inherited:\n",
    "{% block title %}Howdy! | {{ super() }}{% endblock %}\n",
    "{% block content %}\n",
    "\n",
    "'''"
   ]
  },
  {
   "cell_type": "code",
   "execution_count": null,
   "metadata": {},
   "outputs": [],
   "source": [
    "# static directory\n",
    "''' this is where css goes\n",
    "reference to this goes into the layout.html that is inherited by other \n",
    "name.html docs\n",
    "<link rel=\"stylesheet\" href=\"/static/styles.css\"> <-- goes in the <head>\n",
    "\n",
    "'''"
   ]
  },
  {
   "cell_type": "code",
   "execution_count": null,
   "metadata": {},
   "outputs": [],
   "source": [
    "# javascript in static directory\n",
    "'''\n",
    "alert(\"Howdy\");\n",
    "and then need to add to layout.html:\n",
    "goes in <body>:\n",
    "{% block scripts %}{% endblock %}\n",
    "\n",
    "goes where you need it to happen:\n",
    "<script src=\"/static/scripts.js\"></script> <-- or at least it did in this \n",
    "case bc that is where he wanted the thing to happen\n",
    "\n",
    "'''"
   ]
  },
  {
   "cell_type": "code",
   "execution_count": null,
   "metadata": {},
   "outputs": [],
   "source": [
    "from flask import redirect\n",
    "from flask import url_for\n",
    "'''\n",
    "return redirect(url_for('index'))\n",
    "\n",
    "'''\n"
   ]
  },
  {
   "cell_type": "code",
   "execution_count": null,
   "metadata": {},
   "outputs": [],
   "source": [
    "# cookies\n",
    "''' need json - import json\n",
    "set cookies - set on response - the thing that goes back to the server \n",
    "\n",
    "import make_response from flask\n",
    "\n",
    "-- need to do this bc you don't actually have the thing yet to send back \n",
    "-- so you have to make it!\n",
    "def save():\n",
    "    response = make_response(redirect(url_for('index')))\n",
    "    response.set_cookie('character', json.dumps(dict(request.form.items())))\n",
    "    return response\n",
    "\n",
    "\n",
    "get the cookie back out:\n",
    "\n",
    "def get_saved_data():\n",
    "    try:\n",
    "        data = json.loads(request.cookies.get('character'))\n",
    "    except TypeError:\n",
    "        data = {}\n",
    "    return data\n",
    "\n",
    "'''"
   ]
  },
  {
   "cell_type": "code",
   "execution_count": null,
   "metadata": {},
   "outputs": [],
   "source": [
    "# looping through a list given to a template (in html)\n",
    "<ul>                                     \n",
    "{% for option in options %}\n",
    "  <li>{{ option.name }}</li>\n",
    "{% endfor %} \n",
    "</ul>\n",
    "\n",
    "# option[\"name\"] also works"
   ]
  },
  {
   "cell_type": "code",
   "execution_count": null,
   "metadata": {},
   "outputs": [],
   "source": [
    "# showing selections\n",
    "{% if saves.get('footwear') %}\n",
    "<div class=\"footwear\"><img src=\"/static/img/bear-{{ saves[\"footwear\"] }}.svg\"></div>\n",
    "{% endif %}\n"
   ]
  },
  {
   "cell_type": "code",
   "execution_count": null,
   "metadata": {},
   "outputs": [],
   "source": [
    "# flash messages\n",
    "# in app.py, import flash from flask\n",
    "# using session - and in flask those are cryptographically signed\n",
    "# need to make secret key - just type random things - long is good\n",
    "\n",
    "app = Flask(__name__)\n",
    "app.secret_key = 'asdkjboeh238094tn;sdcnoad.k'\n",
    "\n",
    "# & then update save method\n",
    "# call flask method\n",
    "@app.route('/save', methods=[\"POST\"])\n",
    "def save():\n",
    "    flash(\"Alright!\")\n",
    "    ...\n",
    "\n",
    "# but then need something that prints out the flash message\n",
    "# layout.html - right before block content\n",
    "<body>\n",
    "    <div class=\"wrap no-bottom messages\">\n",
    "        {% with messages = get_flashed_messages() %}\n",
    "        {% if messages %}\n",
    "        <ul class=\"flashes\">\n",
    "            {% for message in messages %}\n",
    "            <li> {{ message }}</li>\n",
    "            {% endfor %}\n",
    "        </ul>\n",
    "        {% endif %}\n",
    "        {% endwith %}\n",
    "    </div>\n",
    "    {% block content %}{% endblock %}"
   ]
  },
  {
   "cell_type": "code",
   "execution_count": null,
   "metadata": {},
   "outputs": [],
   "source": [
    "# works with Heroku well"
   ]
  },
  {
   "cell_type": "code",
   "execution_count": null,
   "metadata": {},
   "outputs": [],
   "source": [
    "# peewee - Python database\n",
    "\n",
    "from peewee import *\n",
    "\n",
    "from models import Challenge\n",
    "\n",
    "all_challenges = Challenge.select()\n",
    "\n",
    "Challenge.create(language= \"Ruby\", name= \"Booleans\")\n",
    "\n",
    "sorted_challenges = Challenge.select().order_by(Challenge.steps)"
   ]
  },
  {
   "cell_type": "code",
   "execution_count": null,
   "metadata": {},
   "outputs": [],
   "source": [
    "#!/usr/bin/env python3\n",
    "import datetime\n",
    "from collections import OrderedDict\n",
    "import sys\n",
    "import os\n",
    "\n",
    "from peewee import *\n",
    "\n",
    "db=SqliteDatabase('diary.db')\n",
    "\n",
    "\n",
    "class Entry(Model):\n",
    "    # content\n",
    "    content = TextField()\n",
    "    # timestamp - if you put parenthesis on .now below -it would be \n",
    "    # dt now, when you wrote it, not when you run it\n",
    "    timestamp = DateTimeField(default=datetime.datetime.now)\n",
    "    \n",
    "    class Meta:\n",
    "        database = db\n",
    "\n",
    "def initialize():\n",
    "    \"\"\"Create the db and table if they don't exist\"\"\"\n",
    "        db.connect()\n",
    "        db.create_tables([Entry], safe=True)\n",
    "        \n",
    "def clear():\n",
    "    # windows newer than 95 is int\n",
    "    os.system('cls' if os.name =='nt' else 'clear')\n",
    "        \n",
    "def menu_loop():\n",
    "    ''' show the menu'''\n",
    "    choice = None\n",
    "    \n",
    "    while choice != 'q':\n",
    "        clear()\n",
    "        print(\"Enter 'q' to quit.\")\n",
    "        for key, value in menu.items():\n",
    "            print('{}) {}'.format(key, value.__doc__))\n",
    "        choice = input('Action:  ').lower().strip()\n",
    "        \n",
    "        if choice in menu:\n",
    "            clear()\n",
    "            menu[choice]()\n",
    "\n",
    "def add_entry():\n",
    "    \"\"\" Add an entry \"\"\"\n",
    "    print(\"Enter your entry, press ctrl+d when finished.\")\n",
    "    data = sys.stdin.read().strip()\n",
    "    \n",
    "    if data:\n",
    "        if input('Save entry [Yn] ').lower() != 'n':\n",
    "            Entry.create(content=data)\n",
    "            print(\"Saved successfully!\")\n",
    "    \n",
    "def view_entry(search_query=None):\n",
    "    \"\"\" View all entries \"\"\"\n",
    "    entries = Entry.select().order_by(Entry.timestamp.desc())\n",
    "    if search_query:\n",
    "        entries = entries.where(Entry.content.contains(search_query))\n",
    "    \n",
    "    for entry in entries:\n",
    "        timestamp = entry.timestamp.strftime('%A %B %d, %Y %I:%M%p')\n",
    "        clear()\n",
    "        print(timestamp)\n",
    "        print('='*len(timestamp))\n",
    "        print(entry.content)\n",
    "        print('\\n\\n'+'='*len(timestamp))\n",
    "        print('n) next entry')\n",
    "        print('d) delete entry')\n",
    "        print('q) return to main menu')\n",
    "        \n",
    "        next_action = input('Action: [Ndq]  ').lower().strip()\n",
    "        if next_action =='q':\n",
    "            break\n",
    "        elif next_action == 'd':\n",
    "            delete_entry(entry)\n",
    "\n",
    "def search_entries():\n",
    "    \"\"\" Search entries for a string.\"\"\"\n",
    "    view_entries(input('Search query: '))\n",
    "    \n",
    "def delete_entry(entry):\n",
    "    \"\"\" Delete an entry. \"\"\"\n",
    "    if input(\"Are you sure? [yN]  \").lower() == \"y\":\n",
    "        entry.delete_instance()\n",
    "        print(\"Entry deleted!\")\n",
    "    \n",
    "menu = OrderedDict([\n",
    "    ('a', add_entry),\n",
    "    ('v', view_entries),\n",
    "    ('s', search_entries)\n",
    "])\n",
    "\n",
    "    \n",
    "# To prevent code from being executed when you import a module, \n",
    "# put it into a function or class, or inside which if condition:\n",
    "    \n",
    "if __name__ == '__main__':\n",
    "    initialize()\n",
    "    menu_loop()"
   ]
  },
  {
   "cell_type": "code",
   "execution_count": null,
   "metadata": {},
   "outputs": [],
   "source": [
    "# where with multiple conditions:\n",
    "challenges = Challenge.select().where((Challenge.name == name) | (Challenge.language == language))\n"
   ]
  },
  {
   "cell_type": "code",
   "execution_count": null,
   "metadata": {},
   "outputs": [],
   "source": [
    "# call os level stuff - import os\n",
    "# os.system() lets us use system-level applications\n",
    "def clear():\n",
    "    # windows newer than 95 is int\n",
    "    os.system('cls' if os.name =='nt' else 'clear')"
   ]
  },
  {
   "cell_type": "code",
   "execution_count": null,
   "metadata": {},
   "outputs": [],
   "source": [
    "bio = TextField(default=\"\") <-- empty string for its default makes it optional"
   ]
  },
  {
   "cell_type": "code",
   "execution_count": null,
   "metadata": {},
   "outputs": [],
   "source": []
  },
  {
   "cell_type": "code",
   "execution_count": null,
   "metadata": {},
   "outputs": [],
   "source": [
    "# !/usr/bin/env python3 <-- shebang line needed on linus/ workspaces/ mac\n",
    "# if then run in command line: chmod +x diary.py, can run w/ ./diary.py"
   ]
  },
  {
   "cell_type": "code",
   "execution_count": null,
   "metadata": {},
   "outputs": [],
   "source": [
    "# ordered dict as menu - remembers order you add it in, uses list\n"
   ]
  },
  {
   "cell_type": "code",
   "execution_count": null,
   "metadata": {},
   "outputs": [],
   "source": [
    "# __doc__ --> gets docstring from function! cool"
   ]
  },
  {
   "cell_type": "code",
   "execution_count": null,
   "metadata": {},
   "outputs": [],
   "source": [
    "# organize imports - stuff that comes from python, blank line, 3rd party stuff"
   ]
  },
  {
   "cell_type": "code",
   "execution_count": 5,
   "metadata": {},
   "outputs": [
    {
     "name": "stdout",
     "output_type": "stream",
     "text": [
      "Requirement already satisfied: flask_login in /Users/sarahburgart/anaconda3/lib/python3.7/site-packages (0.4.1)\n",
      "Requirement already satisfied: Flask in /Users/sarahburgart/anaconda3/lib/python3.7/site-packages (from flask_login) (1.1.1)\n",
      "Requirement already satisfied: Werkzeug>=0.15 in /Users/sarahburgart/anaconda3/lib/python3.7/site-packages (from Flask->flask_login) (0.15.5)\n",
      "Requirement already satisfied: click>=5.1 in /Users/sarahburgart/anaconda3/lib/python3.7/site-packages (from Flask->flask_login) (7.0)\n",
      "Requirement already satisfied: Jinja2>=2.10.1 in /Users/sarahburgart/anaconda3/lib/python3.7/site-packages (from Flask->flask_login) (2.10.1)\n",
      "Requirement already satisfied: itsdangerous>=0.24 in /Users/sarahburgart/anaconda3/lib/python3.7/site-packages (from Flask->flask_login) (1.1.0)\n",
      "Requirement already satisfied: MarkupSafe>=0.23 in /Users/sarahburgart/anaconda3/lib/python3.7/site-packages (from Jinja2>=2.10.1->Flask->flask_login) (1.1.1)\n"
     ]
    }
   ],
   "source": [
    "!pip install flask_login"
   ]
  },
  {
   "cell_type": "code",
   "execution_count": 14,
   "metadata": {},
   "outputs": [],
   "source": [
    "import datetime\n",
    "\n",
    "from flask_login import UserMixin\n",
    "from flask_bcrypt import generate_password_hash, check_password_hash\n",
    "from peewee import *\n",
    "\n",
    "db = SqliteDatabase('social.db')\n",
    "\n",
    "class User(UserMixin, Model):\n",
    "    username = CharField(unique=True)\n",
    "    email = CharField(unique=True)\n",
    "    password = CharField(max_length=100)\n",
    "    joined_at = DateTimeField(default=datetime.datetime.now)\n",
    "    is_admin = BooleanField(default=False)\n",
    "    \n",
    "    class Meta:\n",
    "        database = db\n",
    "        order_by = ('-joined_at',)\n",
    "\n",
    "    # cls instead of self - bc you don't want to create an instance to \n",
    "    # call create_user to create an instance, so instead decorator & cls\n",
    "    # so instead - this cls & decorator it will create the instance w/ cls\n",
    "    # class methods are a great way to create classes from nothing\n",
    "    @classmethod\n",
    "    def create_user(cls, username, email, password, admin=False)\n",
    "        try:\n",
    "            cls.create(\n",
    "                username=username,\n",
    "                email=email,\n",
    "                password=generate_password_hash(password),\n",
    "                is_admin=admin)\n",
    "        except IntegrityError:\n",
    "            raise ValueError(\"User already exists\")\n"
   ]
  },
  {
   "cell_type": "code",
   "execution_count": 15,
   "metadata": {},
   "outputs": [
    {
     "name": "stdout",
     "output_type": "stream",
     "text": [
      "Help on function check_password_hash in module flask_bcrypt:\n",
      "\n",
      "check_password_hash(pw_hash, password)\n",
      "    This helper function wraps the eponymous method of :class:`Bcrypt.` It \n",
      "    is intended to be used as a helper function at the expense of the \n",
      "    configuration variable provided when passing back the app object. In other \n",
      "    words this shortcut does not make use of the app object at all.\n",
      "    \n",
      "    To this this function, simple import it from the module and use it in a \n",
      "    similar fashion as the method would be used. Here is a quick example::\n",
      "        \n",
      "        from flask.ext.bcrypt import check_password_hash\n",
      "        check_password_hash(pw_hash, 'hunter2') # returns True\n",
      "    \n",
      "    :param pw_hash: The hash to be compared against.\n",
      "    :param password: The password to compare.\n",
      "\n"
     ]
    }
   ],
   "source": [
    "# cryptographic hashing with Flask-Bcrypt\n",
    "help(check_password_hash)"
   ]
  },
  {
   "cell_type": "code",
   "execution_count": null,
   "metadata": {},
   "outputs": [],
   "source": [
    "# beginning of every password $2a$ or $2y$ \n",
    "# next comes number of rounds, and then another $ and then a hash\n",
    "# default is 12 rounds\n",
    "# you could write it so the more times a password is failed, the more \n",
    "# rounds - it will take longer - eventually will not be worth the time\n",
    "# the salt (extra bit of random data)\n",
    "# to check - need another function - check_password_hash"
   ]
  },
  {
   "cell_type": "code",
   "execution_count": null,
   "metadata": {},
   "outputs": [],
   "source": [
    "# social network with Flask\n",
    "\n",
    "''' @classmethods - so you don't have to create an instance in order \n",
    "to create an instance\n",
    "\n",
    "- need @classmethod\n",
    "- need cls\n",
    "'''\n",
    "\n",
    "@classmethod\n",
    "def create_user(cls, username, email):\n",
    "    pass"
   ]
  },
  {
   "cell_type": "code",
   "execution_count": null,
   "metadata": {},
   "outputs": [],
   "source": [
    "from flask import Flask, g\n",
    "\n",
    "\"\"\"g = makes things global variables\"\"\"\n",
    "\n",
    "\n",
    "import models\n",
    "\n",
    "DEBUG = True\n",
    "PORT = 8000\n",
    "HOST = '0.0.0.0'\n",
    "\n",
    "#could put in app.run - this is cleaner - change them all in one spot\n",
    "\n",
    "app = Flask(__name__)\n",
    "\n",
    "\n",
    "@app.before_request\n",
    "def before_request():\n",
    "    \"\"\"connect to the db before each request\"\"\"\n",
    "    g.db = models.DATABASE\n",
    "    g.db.connect()\n",
    "    \n",
    "@app.after_request\n",
    "def after_request(response):\n",
    "    \"\"\"close the db connection after each request\"\"\"\n",
    "    g.db.close()\n",
    "    return response\n",
    "\n",
    "\n",
    "\n",
    "\n",
    "\n",
    "\n",
    "if __name__ == '__main__':\n",
    "    app.run(debug=DEBUG, host=HOST, port=PORT)\n"
   ]
  },
  {
   "cell_type": "code",
   "execution_count": null,
   "metadata": {},
   "outputs": [],
   "source": []
  },
  {
   "cell_type": "code",
   "execution_count": null,
   "metadata": {},
   "outputs": [],
   "source": []
  },
  {
   "cell_type": "code",
   "execution_count": null,
   "metadata": {},
   "outputs": [],
   "source": []
  },
  {
   "cell_type": "code",
   "execution_count": null,
   "metadata": {},
   "outputs": [],
   "source": []
  }
 ],
 "metadata": {
  "kernelspec": {
   "display_name": "Python 3",
   "language": "python",
   "name": "python3"
  },
  "language_info": {
   "codemirror_mode": {
    "name": "ipython",
    "version": 3
   },
   "file_extension": ".py",
   "mimetype": "text/x-python",
   "name": "python",
   "nbconvert_exporter": "python",
   "pygments_lexer": "ipython3",
   "version": "3.7.3"
  }
 },
 "nbformat": 4,
 "nbformat_minor": 2
}
