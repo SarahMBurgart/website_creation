{
 "cells": [
  {
   "cell_type": "code",
   "execution_count": 1,
   "metadata": {},
   "outputs": [
    {
     "data": {
      "text/plain": [
       "'There are seven sequence types: strings, Unicode strings, \\nlists, tuples, bytearrays, buffers, and xrange objects. \\nDictionaries and sets are containers for sequential data.'"
      ]
     },
     "execution_count": 1,
     "metadata": {},
     "output_type": "execute_result"
    }
   ],
   "source": [
    "\"\"\"There are seven sequence types: strings, Unicode strings, \n",
    "lists, tuples, bytearrays, buffers, and xrange objects. \n",
    "Dictionaries and sets are containers for sequential data.\"\"\"\n"
   ]
  },
  {
   "cell_type": "code",
   "execution_count": 2,
   "metadata": {},
   "outputs": [
    {
     "name": "stdout",
     "output_type": "stream",
     "text": [
      "roses\n",
      "apples\n",
      "bananas\n",
      "dog treats\n"
     ]
    }
   ],
   "source": [
    "# thing you can do with sequence - iteration\n",
    "\n",
    "groceries = [\"roses\", \"apples\", \"bananas\", \"dog treats\"]\n",
    "\n",
    "for item in groceries:\n",
    "    print(item)"
   ]
  },
  {
   "cell_type": "code",
   "execution_count": 6,
   "metadata": {},
   "outputs": [
    {
     "name": "stdout",
     "output_type": "stream",
     "text": [
      "1. roses\n",
      "2. apples\n",
      "3. bananas\n",
      "4. dog treats\n"
     ]
    }
   ],
   "source": [
    "# enumerate, optional argument - start @ 1\n",
    "\n",
    "for index, item in enumerate(groceries, 1):\n",
    "    print(f'{index}. {item}')"
   ]
  },
  {
   "cell_type": "code",
   "execution_count": 10,
   "metadata": {},
   "outputs": [],
   "source": [
    "# ranges (iterating over ranges is analogous to for in other languages)\n",
    "# needed partially bc 'int' object is not iterable\n",
    "# Range [ start, stop, step ] - stop is not optional, and is exclusive\n",
    "\n",
    "for i in range(2,2):\n",
    "    print(i)\n"
   ]
  },
  {
   "cell_type": "code",
   "execution_count": 14,
   "metadata": {},
   "outputs": [
    {
     "data": {
      "text/plain": [
       "True"
      ]
     },
     "execution_count": 14,
     "metadata": {},
     "output_type": "execute_result"
    }
   ],
   "source": [
    "# sequence operations\n",
    "# Slice [start:stop:step] - stop is exclusive\n",
    "\n",
    "groceries[1:] == groceries[1:4]"
   ]
  },
  {
   "cell_type": "code",
   "execution_count": 15,
   "metadata": {},
   "outputs": [
    {
     "data": {
      "text/plain": [
       "['roses', 'bananas']"
      ]
     },
     "execution_count": 15,
     "metadata": {},
     "output_type": "execute_result"
    }
   ],
   "source": [
    "groceries[::2]"
   ]
  },
  {
   "cell_type": "code",
   "execution_count": 16,
   "metadata": {},
   "outputs": [
    {
     "data": {
      "text/plain": [
       "'0'"
      ]
     },
     "execution_count": 16,
     "metadata": {},
     "output_type": "execute_result"
    }
   ],
   "source": [
    "# len, min, max work for all sequences \n",
    "# - but only if they are the same type for max or min\n",
    "# lexigraphical numbering - nums are < letters \n",
    "\n",
    "min('treehouse2019')"
   ]
  },
  {
   "cell_type": "code",
   "execution_count": 18,
   "metadata": {},
   "outputs": [
    {
     "name": "stdout",
     "output_type": "stream",
     "text": [
      "apples in groceries!\n"
     ]
    }
   ],
   "source": [
    "# membership testing - is an item in a sequence\n",
    "\n",
    "if 'apples' in groceries:\n",
    "    # do something\n",
    "    print('apples in groceries!')\n",
    "    \n",
    "else:\n",
    "    # do something else\n",
    "    print('apples not in groceries!')"
   ]
  },
  {
   "cell_type": "code",
   "execution_count": 19,
   "metadata": {},
   "outputs": [
    {
     "data": {
      "text/plain": [
       "1"
      ]
     },
     "execution_count": 19,
     "metadata": {},
     "output_type": "execute_result"
    }
   ],
   "source": [
    "# methods - determine how many times a thing appears\n",
    "# what index first occurence is at\n",
    "\n",
    "groceries.count('apples')"
   ]
  },
  {
   "cell_type": "code",
   "execution_count": 20,
   "metadata": {},
   "outputs": [
    {
     "data": {
      "text/plain": [
       "1"
      ]
     },
     "execution_count": 20,
     "metadata": {},
     "output_type": "execute_result"
    }
   ],
   "source": [
    "groceries.index('apples')"
   ]
  },
  {
   "cell_type": "code",
   "execution_count": 21,
   "metadata": {},
   "outputs": [
    {
     "data": {
      "text/plain": [
       "True"
      ]
     },
     "execution_count": 21,
     "metadata": {},
     "output_type": "execute_result"
    }
   ],
   "source": [
    "'eggplant' not in groceries"
   ]
  },
  {
   "cell_type": "code",
   "execution_count": 22,
   "metadata": {},
   "outputs": [
    {
     "data": {
      "text/plain": [
       "['roses',\n",
       " 'apples',\n",
       " 'bananas',\n",
       " 'dog treats',\n",
       " 'reeds',\n",
       " 'paper towels',\n",
       " 'almond cheese',\n",
       " 'lettuce']"
      ]
     },
     "execution_count": 22,
     "metadata": {},
     "output_type": "execute_result"
    }
   ],
   "source": [
    "# concatenation on immutable types is not memory or time efficient \n",
    "# consider a different data type\n",
    "\n",
    "more_groceries = [\"reeds\", \"paper towels\", \"almond cheese\", \"lettuce\"]\n",
    "\n",
    "all_groceries = groceries + more_groceries\n",
    "all_groceries"
   ]
  },
  {
   "cell_type": "code",
   "execution_count": 23,
   "metadata": {},
   "outputs": [],
   "source": [
    "# mutable sequence only operations\n",
    "\n",
    "groceries.append('oranges')\n",
    "del groceries[-1:]\n",
    "groceries.insert(3, \"kiwi\")\n",
    "# removes item from sequence, but also retrieves it\n",
    "kiwi= groceries.pop(3)\n",
    "groceries.remove(\"apples\")\n",
    "groceries.reverse()"
   ]
  },
  {
   "cell_type": "code",
   "execution_count": 24,
   "metadata": {},
   "outputs": [
    {
     "data": {
      "text/plain": [
       "['dog treats', 'bananas', 'roses']"
      ]
     },
     "execution_count": 24,
     "metadata": {},
     "output_type": "execute_result"
    }
   ],
   "source": [
    "groceries"
   ]
  },
  {
   "cell_type": "code",
   "execution_count": 26,
   "metadata": {},
   "outputs": [
    {
     "data": {
      "text/plain": [
       "'kiwi'"
      ]
     },
     "execution_count": 26,
     "metadata": {},
     "output_type": "execute_result"
    }
   ],
   "source": [
    "kiwi"
   ]
  },
  {
   "cell_type": "code",
   "execution_count": 27,
   "metadata": {},
   "outputs": [
    {
     "name": "stdout",
     "output_type": "stream",
     "text": [
      "name Sarah\n",
      "dog Zeus\n"
     ]
    }
   ],
   "source": [
    "# dictionary - a container for sequential data\n",
    "\n",
    "# instead of indexing with index, do so with key\n",
    "\n",
    "my_dict = {'name': 'Sarah', 'dog': 'Zeus'}\n",
    "\n",
    "for k, v in my_dict.items():\n",
    "    print(k,v)"
   ]
  },
  {
   "cell_type": "code",
   "execution_count": 28,
   "metadata": {},
   "outputs": [
    {
     "name": "stdout",
     "output_type": "stream",
     "text": [
      "name: Sarah\n",
      "job: data scientist\n",
      "topic: life\n"
     ]
    }
   ],
   "source": [
    "# **kwargs\n",
    "\n",
    "def print_teacher(**kwargs):\n",
    "    for key, value in kwargs.items():\n",
    "        print(f'{key}: {value}')\n",
    "        \n",
    "print_teacher(name='Sarah', job='data scientist', topic='life')"
   ]
  },
  {
   "cell_type": "code",
   "execution_count": null,
   "metadata": {},
   "outputs": [],
   "source": [
    "# social network with Flask\n",
    "\n",
    "''' @classmethods - so you don't have to create an instance in order \n",
    "to create an "
   ]
  }
 ],
 "metadata": {
  "kernelspec": {
   "display_name": "Python 3",
   "language": "python",
   "name": "python3"
  },
  "language_info": {
   "codemirror_mode": {
    "name": "ipython",
    "version": 3
   },
   "file_extension": ".py",
   "mimetype": "text/x-python",
   "name": "python",
   "nbconvert_exporter": "python",
   "pygments_lexer": "ipython3",
   "version": "3.7.3"
  }
 },
 "nbformat": 4,
 "nbformat_minor": 2
}
